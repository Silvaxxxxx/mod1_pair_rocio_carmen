{
 "cells": [
  {
   "cell_type": "markdown",
   "id": "08efcd44",
   "metadata": {},
   "source": [
    "#Pair Variables"
   ]
  },
  {
   "cell_type": "code",
   "execution_count": 1,
   "id": "ede09565",
   "metadata": {},
   "outputs": [],
   "source": [
    "numero1 = 1"
   ]
  },
  {
   "cell_type": "code",
   "execution_count": 2,
   "id": "925d4fc3",
   "metadata": {},
   "outputs": [],
   "source": [
    "numero2 = 2"
   ]
  },
  {
   "cell_type": "code",
   "execution_count": 3,
   "id": "2075ee35",
   "metadata": {},
   "outputs": [],
   "source": [
    "numero3 = 3"
   ]
  },
  {
   "cell_type": "code",
   "execution_count": null,
   "id": "565c2165",
   "metadata": {},
   "outputs": [
    {
     "data": {
      "text/plain": [
       "False"
      ]
     },
     "execution_count": 4,
     "metadata": {},
     "output_type": "execute_result"
    }
   ],
   "source": [
    "numero1 > numero2 #en este caso es menor, por eso da falso"
   ]
  },
  {
   "cell_type": "code",
   "execution_count": null,
   "id": "e617d0be",
   "metadata": {},
   "outputs": [
    {
     "name": "stdout",
     "output_type": "stream",
     "text": [
      "False\n"
     ]
    }
   ],
   "source": [
    "print((numero1 < numero2) > numero3) #dudas de si esto es válido\n"
   ]
  },
  {
   "cell_type": "code",
   "execution_count": null,
   "id": "4e9b2cf7",
   "metadata": {},
   "outputs": [
    {
     "data": {
      "text/plain": [
       "False"
      ]
     },
     "execution_count": 8,
     "metadata": {},
     "output_type": "execute_result"
    }
   ],
   "source": [
    "numero3 == numero2 #no es igual"
   ]
  },
  {
   "cell_type": "code",
   "execution_count": null,
   "id": "6b0945c2",
   "metadata": {},
   "outputs": [
    {
     "data": {
      "text/plain": [
       "True"
      ]
     },
     "execution_count": 9,
     "metadata": {},
     "output_type": "execute_result"
    }
   ],
   "source": [
    "numero2 != numero1 #es correcto"
   ]
  },
  {
   "cell_type": "code",
   "execution_count": 10,
   "id": "d015f3be",
   "metadata": {},
   "outputs": [],
   "source": [
    "altura1 = 1.70\n",
    "altura2 = 1.82"
   ]
  },
  {
   "cell_type": "code",
   "execution_count": 11,
   "id": "24929523",
   "metadata": {},
   "outputs": [
    {
     "data": {
      "text/plain": [
       "3.52"
      ]
     },
     "execution_count": 11,
     "metadata": {},
     "output_type": "execute_result"
    }
   ],
   "source": [
    "altura1 + altura2"
   ]
  },
  {
   "cell_type": "code",
   "execution_count": 12,
   "id": "4c0df342",
   "metadata": {},
   "outputs": [
    {
     "data": {
      "text/plain": [
       "-0.1200000000000001"
      ]
     },
     "execution_count": 12,
     "metadata": {},
     "output_type": "execute_result"
    }
   ],
   "source": [
    "altura1 - altura2"
   ]
  },
  {
   "cell_type": "code",
   "execution_count": 15,
   "id": "f1827169",
   "metadata": {},
   "outputs": [
    {
     "data": {
      "text/plain": [
       "0.934065934065934"
      ]
     },
     "execution_count": 15,
     "metadata": {},
     "output_type": "execute_result"
    }
   ],
   "source": [
    "altura1 / altura2"
   ]
  },
  {
   "cell_type": "code",
   "execution_count": 16,
   "id": "c74edee0",
   "metadata": {},
   "outputs": [
    {
     "data": {
      "text/plain": [
       "1.7"
      ]
     },
     "execution_count": 16,
     "metadata": {},
     "output_type": "execute_result"
    }
   ],
   "source": [
    "altura1 % altura2"
   ]
  },
  {
   "cell_type": "code",
   "execution_count": 24,
   "id": "ffb81de7",
   "metadata": {},
   "outputs": [
    {
     "data": {
      "text/plain": [
       "0.934065934065934"
      ]
     },
     "execution_count": 24,
     "metadata": {},
     "output_type": "execute_result"
    }
   ],
   "source": [
    "altura1 / altura2"
   ]
  },
  {
   "cell_type": "code",
   "execution_count": null,
   "id": "71acbd64",
   "metadata": {},
   "outputs": [
    {
     "name": "stdout",
     "output_type": "stream",
     "text": [
      "1\n"
     ]
    }
   ],
   "source": [
    "diferencia_de_altura = round(altura1/altura2) #se puede simplificar\n",
    "print(diferencia_de_altura)"
   ]
  },
  {
   "cell_type": "code",
   "execution_count": null,
   "id": "c9518a13",
   "metadata": {},
   "outputs": [
    {
     "data": {
      "text/plain": [
       "1"
      ]
     },
     "execution_count": 28,
     "metadata": {},
     "output_type": "execute_result"
    }
   ],
   "source": [
    "round(altura1/altura2) #segunda forma (nos hibiésemos ahorrado darle un valor a una nueva variable)"
   ]
  }
 ],
 "metadata": {
  "kernelspec": {
   "display_name": "base",
   "language": "python",
   "name": "python3"
  },
  "language_info": {
   "codemirror_mode": {
    "name": "ipython",
    "version": 3
   },
   "file_extension": ".py",
   "mimetype": "text/x-python",
   "name": "python",
   "nbconvert_exporter": "python",
   "pygments_lexer": "ipython3",
   "version": "3.12.7"
  }
 },
 "nbformat": 4,
 "nbformat_minor": 5
}
