{
 "cells": [
  {
   "cell_type": "markdown",
   "id": "987e771f",
   "metadata": {},
   "source": [
    "## EJERCICIO PAIR FUNCIONES"
   ]
  },
  {
   "cell_type": "code",
   "execution_count": 2,
   "id": "5ea2962c",
   "metadata": {},
   "outputs": [],
   "source": [
    "# Crea una función llamada calcular_area_circulo que tome el radio como parámetro y devuelva el área del círculo.\n",
    "\n"
   ]
  },
  {
   "cell_type": "code",
   "execution_count": 3,
   "id": "10edf669",
   "metadata": {},
   "outputs": [],
   "source": [
    "# radio ---> parametro\n",
    "# área ----> lo que queremos calcular (que nos lo devuelva)\n",
    "\n",
    "numero_pi = 3.14\n",
    "radio = 0.5\n",
    "area_circulo = numero_pi * (radio * radio)"
   ]
  },
  {
   "cell_type": "code",
   "execution_count": 4,
   "id": "ac76b63f",
   "metadata": {},
   "outputs": [
    {
     "name": "stdout",
     "output_type": "stream",
     "text": [
      "0.785\n"
     ]
    }
   ],
   "source": [
    "print(area_circulo)"
   ]
  },
  {
   "cell_type": "code",
   "execution_count": 5,
   "id": "181c019c",
   "metadata": {},
   "outputs": [
    {
     "name": "stdout",
     "output_type": "stream",
     "text": [
      "0.785\n"
     ]
    }
   ],
   "source": [
    "print(area_circulo)"
   ]
  },
  {
   "cell_type": "code",
   "execution_count": 12,
   "id": "dcc7569f",
   "metadata": {},
   "outputs": [],
   "source": [
    "# Crea una función llamada calcular_area_circulo que tome el radio como parámetro y devuelva el área del círculo.\n",
    "\n",
    "\n",
    "def calculo_area(radio):\n",
    "    area = (radio * radio) * 3.14\n",
    "    return area\n",
    "\n"
   ]
  },
  {
   "cell_type": "code",
   "execution_count": 15,
   "id": "82c796f9",
   "metadata": {},
   "outputs": [
    {
     "data": {
      "text/plain": [
       "28.26"
      ]
     },
     "execution_count": 15,
     "metadata": {},
     "output_type": "execute_result"
    }
   ],
   "source": [
    "calculo_area(3)"
   ]
  },
  {
   "cell_type": "code",
   "execution_count": 8,
   "id": "e43681c0",
   "metadata": {},
   "outputs": [],
   "source": [
    "# Crea una función llamada contar_caracteres que tome una cadena como parámetro y devuelva la cantidad de caracteres que contiene."
   ]
  }
 ],
 "metadata": {
  "kernelspec": {
   "display_name": "base",
   "language": "python",
   "name": "python3"
  },
  "language_info": {
   "codemirror_mode": {
    "name": "ipython",
    "version": 3
   },
   "file_extension": ".py",
   "mimetype": "text/x-python",
   "name": "python",
   "nbconvert_exporter": "python",
   "pygments_lexer": "ipython3",
   "version": "3.12.7"
  }
 },
 "nbformat": 4,
 "nbformat_minor": 5
}
