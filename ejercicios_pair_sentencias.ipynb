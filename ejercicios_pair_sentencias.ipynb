{
 "cells": [
  {
   "cell_type": "markdown",
   "id": "4f5d6901",
   "metadata": {},
   "source": [
    "### EJERCICIOS PAIR SENTENCIAS DE CONTROL\n"
   ]
  },
  {
   "cell_type": "code",
   "execution_count": 5,
   "id": "92c33fc5",
   "metadata": {},
   "outputs": [
    {
     "name": "stdout",
     "output_type": "stream",
     "text": [
      "este numero es negativo\n"
     ]
    }
   ],
   "source": [
    "# 1. Verificar si un número es positivo, negativo o cero\n",
    "\n",
    "numero = -3\n",
    "\n",
    "\n",
    "if numero > 0:\n",
    "    print(\"este numero es positivo\")\n",
    "\n",
    "elif numero < 0:\n",
    "    print(\"este numero es negativo\")\n",
    "\n",
    "else:\n",
    "    print(\"este numero es igual a cero\")\n"
   ]
  },
  {
   "cell_type": "code",
   "execution_count": 29,
   "id": "c96529c3",
   "metadata": {},
   "outputs": [
    {
     "name": "stdout",
     "output_type": "stream",
     "text": [
      "este numero es impar\n"
     ]
    }
   ],
   "source": [
    "# 2. Verificar si un número es par o impar\n",
    "\n",
    "numero1 = 5\n",
    "residuo = numero1 % 2\n",
    "\n",
    "if residuo == 0:\n",
    "    print(\"este numero es par\")\n",
    "\n",
    "elif residuo != 0:\n",
    "    print(\"este numero es impar\")\n",
    "\n"
   ]
  },
  {
   "cell_type": "code",
   "execution_count": 31,
   "id": "5431e00f",
   "metadata": {},
   "outputs": [
    {
     "name": "stdout",
     "output_type": "stream",
     "text": [
      "par\n"
     ]
    }
   ],
   "source": [
    "numero2 = 6\n",
    "\n",
    "if numero2 % 2 == 0:\n",
    "    print(\"par\")\n",
    "\n",
    "else:\n",
    "    print(\"impar\")"
   ]
  }
 ],
 "metadata": {
  "kernelspec": {
   "display_name": "base",
   "language": "python",
   "name": "python3"
  },
  "language_info": {
   "codemirror_mode": {
    "name": "ipython",
    "version": 3
   },
   "file_extension": ".py",
   "mimetype": "text/x-python",
   "name": "python",
   "nbconvert_exporter": "python",
   "pygments_lexer": "ipython3",
   "version": "3.12.7"
  }
 },
 "nbformat": 4,
 "nbformat_minor": 5
}
