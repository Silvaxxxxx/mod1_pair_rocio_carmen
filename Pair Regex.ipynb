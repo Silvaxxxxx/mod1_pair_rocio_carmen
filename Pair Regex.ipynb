{
 "cells": [
  {
   "cell_type": "markdown",
   "id": "ef3dbc88",
   "metadata": {},
   "source": [
    "# Pair Expresiones regulares"
   ]
  },
  {
   "cell_type": "code",
   "execution_count": 34,
   "id": "83109ca9",
   "metadata": {},
   "outputs": [],
   "source": [
    "# 1. Validar un número de teléfono.\n",
    "# (XXX) XXX-XXXX.\n",
    "\n",
    "telefonos = [\"(123) 456-7890\", \"178 1890-733\", \"(555) 238-1987\", \"(123) 4560-7890\", \"(ABC) 098-1111\"]"
   ]
  },
  {
   "cell_type": "code",
   "execution_count": null,
   "id": "c08e0440",
   "metadata": {},
   "outputs": [],
   "source": [
    "# DeepSeek\n",
    "\n",
    "patron = r\"\\(\\d{3}\\) \\d{3}-\\d{4}\"\n",
    "\n",
    "'''\n",
    "(XXX) XXX-XXXX \n",
    "r => hace referencia a regex\n",
    "\"\\( estamos buscando un paréntesis - para que sea literal\n",
    "\n",
    "\n",
    "\n",
    "'''"
   ]
  },
  {
   "cell_type": "code",
   "execution_count": null,
   "id": "beae220e",
   "metadata": {},
   "outputs": [
    {
     "data": {
      "text/plain": [
       "['(']"
      ]
     },
     "execution_count": 21,
     "metadata": {},
     "output_type": "execute_result"
    }
   ],
   "source": [
    "t1 = \"(123) 456-7890\"\n",
    "re.findall(r\"\\(\", t1) # nos encuentra el \"(\""
   ]
  },
  {
   "cell_type": "code",
   "execution_count": 23,
   "id": "3adfe358",
   "metadata": {},
   "outputs": [
    {
     "data": {
      "text/plain": [
       "['(123']"
      ]
     },
     "execution_count": 23,
     "metadata": {},
     "output_type": "execute_result"
    }
   ],
   "source": [
    "re.findall(r\"\\(\\d{3}\", t1)"
   ]
  },
  {
   "cell_type": "code",
   "execution_count": 24,
   "id": "533b8cf1",
   "metadata": {},
   "outputs": [
    {
     "data": {
      "text/plain": [
       "['(123)']"
      ]
     },
     "execution_count": 24,
     "metadata": {},
     "output_type": "execute_result"
    }
   ],
   "source": [
    "re.findall(r\"\\(\\d{3}\\)\", t1)"
   ]
  },
  {
   "cell_type": "code",
   "execution_count": 25,
   "id": "9113b18a",
   "metadata": {},
   "outputs": [
    {
     "data": {
      "text/plain": [
       "['(123) ']"
      ]
     },
     "execution_count": 25,
     "metadata": {},
     "output_type": "execute_result"
    }
   ],
   "source": [
    "re.findall(r\"\\(\\d{3}\\)\\s\", t1)"
   ]
  },
  {
   "cell_type": "code",
   "execution_count": 26,
   "id": "c45f7fb9",
   "metadata": {},
   "outputs": [
    {
     "data": {
      "text/plain": [
       "['(123) 456']"
      ]
     },
     "execution_count": 26,
     "metadata": {},
     "output_type": "execute_result"
    }
   ],
   "source": [
    "re.findall(r\"\\(\\d{3}\\)\\s\\d{3}\", t1)"
   ]
  },
  {
   "cell_type": "code",
   "execution_count": 27,
   "id": "ce3cf789",
   "metadata": {},
   "outputs": [
    {
     "data": {
      "text/plain": [
       "['(123) 456-']"
      ]
     },
     "execution_count": 27,
     "metadata": {},
     "output_type": "execute_result"
    }
   ],
   "source": [
    "re.findall(r\"\\(\\d{3}\\)\\s\\d{3}-\", t1)"
   ]
  },
  {
   "cell_type": "code",
   "execution_count": 28,
   "id": "97b21012",
   "metadata": {},
   "outputs": [
    {
     "data": {
      "text/plain": [
       "['(123) 456-7890']"
      ]
     },
     "execution_count": 28,
     "metadata": {},
     "output_type": "execute_result"
    }
   ],
   "source": [
    "re.findall(r\"\\(\\d{3}\\)\\s\\d{3}-\\d{4}\", t1)"
   ]
  },
  {
   "cell_type": "code",
   "execution_count": 29,
   "id": "ffab9967",
   "metadata": {},
   "outputs": [
    {
     "data": {
      "text/plain": [
       "[]"
      ]
     },
     "execution_count": 29,
     "metadata": {},
     "output_type": "execute_result"
    }
   ],
   "source": [
    "t2 = \"178 1890-733\"\n",
    "re.findall(r\"\\(\\d{3}\\)\\s\\d{3}-\\d{4}\", t2)"
   ]
  },
  {
   "cell_type": "code",
   "execution_count": 31,
   "id": "ccc1312d",
   "metadata": {},
   "outputs": [
    {
     "data": {
      "text/plain": [
       "[]"
      ]
     },
     "execution_count": 31,
     "metadata": {},
     "output_type": "execute_result"
    }
   ],
   "source": [
    "t5 = \"(ABC) 098-1111\"\n",
    "re.findall(r\"\\(\\d{3}\\)\\s\\d{3}-\\d{4}\", t5)"
   ]
  },
  {
   "cell_type": "code",
   "execution_count": 32,
   "id": "ff050cfc",
   "metadata": {},
   "outputs": [
    {
     "data": {
      "text/plain": [
       "['(555) 238-1987']"
      ]
     },
     "execution_count": 32,
     "metadata": {},
     "output_type": "execute_result"
    }
   ],
   "source": [
    "t3 = \"(555) 238-1987\"\n",
    "re.findall(r\"\\(\\d{3}\\)\\s\\d{3}-\\d{4}\", t3)"
   ]
  },
  {
   "cell_type": "code",
   "execution_count": null,
   "id": "e11b7cae",
   "metadata": {},
   "outputs": [],
   "source": []
  },
  {
   "cell_type": "code",
   "execution_count": null,
   "id": "4372ac0c",
   "metadata": {},
   "outputs": [],
   "source": [
    "t1 = \"(123) 456-7890\"\n",
    "t2 = \"178 1890-733\"\n",
    "t3 = \"(555) 238-1987\"\n",
    "t4 = \"(123) 4560-7890\"\n",
    "t5 = \"(ABC) 098-1111\"\n",
    "\n"
   ]
  },
  {
   "cell_type": "code",
   "execution_count": 33,
   "id": "07356d83",
   "metadata": {},
   "outputs": [
    {
     "data": {
      "text/plain": [
       "0"
      ]
     },
     "execution_count": 33,
     "metadata": {},
     "output_type": "execute_result"
    }
   ],
   "source": [
    "len([])"
   ]
  },
  {
   "cell_type": "code",
   "execution_count": 69,
   "id": "f8a84171",
   "metadata": {},
   "outputs": [
    {
     "name": "stdout",
     "output_type": "stream",
     "text": [
      "\\(\\d{3}\\)\\s\\d{3}-\\d{4}$\n"
     ]
    }
   ],
   "source": [
    "import re\n",
    "\n",
    "telefonos = [\"(123) 456-7890\", \"178 1890-733\", \"(555) 238-1987\", \"(123) 4560-7890\", \"(ABC) 098-1111\"]\n",
    "num_validos = []\n",
    "patron = r\"\\(\\d{3}\\)\\s\\d{3}-\\d{4}$\"\n",
    "print(patron)\n"
   ]
  },
  {
   "cell_type": "code",
   "execution_count": 70,
   "id": "6b00c2a2",
   "metadata": {},
   "outputs": [
    {
     "name": "stdout",
     "output_type": "stream",
     "text": [
      "(123) 456-7890 es un teléfono válido\n",
      "178 1890-733 no es un teléfono válido\n",
      "(555) 238-1987 es un teléfono válido\n",
      "(123) 4560-7890 no es un teléfono válido\n",
      "(ABC) 098-1111 no es un teléfono válido\n",
      "Números válidos: ['(123) 456-7890', '(555) 238-1987']\n"
     ]
    }
   ],
   "source": [
    "for telefono in telefonos:\n",
    "    if re.findall(patron, telefono):\n",
    "        num_validos.append(telefono)\n",
    "        print(f\"{telefono} es un teléfono válido\")\n",
    "    else:\n",
    "        print(f\"{telefono} no es un teléfono válido\")\n",
    "\n",
    "print(\"Números válidos:\", num_validos)"
   ]
  },
  {
   "cell_type": "code",
   "execution_count": 88,
   "id": "17caff27",
   "metadata": {},
   "outputs": [
    {
     "name": "stdout",
     "output_type": "stream",
     "text": [
      "12345 es un código válido\n",
      "190037 no es un código válido\n",
      "78409 es un código válido\n",
      "986449 no es un código válido\n",
      "19305 es un código válido\n",
      "Códigos válidos: ['12345', '78409', '19305']\n"
     ]
    }
   ],
   "source": [
    "# 3. Validar un código postal.\n",
    "\n",
    "codigos_postales = [\"12345\", \"190037\", \"78409\", \"986449\", \"19305\"]\n",
    "patron = r\"^\\d{5}$\"  #r\"\\\\d{5}$\"\n",
    "cod_validos = []\n",
    "\n",
    "for codigo in codigos_postales:\n",
    "    if re.findall(patron, codigo):\n",
    "        cod_validos.append(codigo)\n",
    "        print(f\"{codigo} es un código válido\")\n",
    "    else:\n",
    "        print(f\"{codigo} no es un código válido\")\n",
    "\n",
    "print(\"Códigos válidos:\", cod_validos)"
   ]
  },
  {
   "cell_type": "code",
   "execution_count": 72,
   "id": "35577832",
   "metadata": {},
   "outputs": [
    {
     "data": {
      "text/plain": [
       "'\\\\d{5}$'"
      ]
     },
     "execution_count": 72,
     "metadata": {},
     "output_type": "execute_result"
    }
   ],
   "source": [
    "r\"\\d{5}$\""
   ]
  },
  {
   "cell_type": "code",
   "execution_count": 76,
   "id": "cf201e9f",
   "metadata": {},
   "outputs": [
    {
     "data": {
      "text/plain": [
       "[]"
      ]
     },
     "execution_count": 76,
     "metadata": {},
     "output_type": "execute_result"
    }
   ],
   "source": [
    "c1 = \"190037\"\n",
    "re.findall(r\"\\\\d{5}$\", c1)\n"
   ]
  }
 ],
 "metadata": {
  "kernelspec": {
   "display_name": "base",
   "language": "python",
   "name": "python3"
  },
  "language_info": {
   "codemirror_mode": {
    "name": "ipython",
    "version": 3
   },
   "file_extension": ".py",
   "mimetype": "text/x-python",
   "name": "python",
   "nbconvert_exporter": "python",
   "pygments_lexer": "ipython3",
   "version": "3.12.7"
  }
 },
 "nbformat": 4,
 "nbformat_minor": 5
}
