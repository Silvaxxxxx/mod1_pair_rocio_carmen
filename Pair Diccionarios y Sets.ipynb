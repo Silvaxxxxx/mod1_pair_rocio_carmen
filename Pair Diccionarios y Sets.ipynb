{
 "cells": [
  {
   "cell_type": "markdown",
   "id": "53f0ea7e",
   "metadata": {},
   "source": [
    "# Pair Diccionarios y Sets\n"
   ]
  },
  {
   "cell_type": "markdown",
   "id": "82d92d3d",
   "metadata": {},
   "source": [
    "### Ejercicios diccionarios"
   ]
  },
  {
   "cell_type": "code",
   "execution_count": 46,
   "id": "75a9b250",
   "metadata": {},
   "outputs": [],
   "source": [
    "# Crear un diccionario vacío\n",
    "\n",
    "diccionario = {}"
   ]
  },
  {
   "cell_type": "code",
   "execution_count": 47,
   "id": "8f8a61ef",
   "metadata": {},
   "outputs": [],
   "source": [
    "diccionario_2 = {\"Rocio\": \"Caballo\", \"Carmen\" : \"Gato\", \"Maria\": \"Urraca\", \"Laura\": \"Oso\", \"Irene\": \"Medusa\"}"
   ]
  },
  {
   "cell_type": "code",
   "execution_count": 48,
   "id": "76c72ed7",
   "metadata": {},
   "outputs": [
    {
     "ename": "KeyError",
     "evalue": "'rocio'",
     "output_type": "error",
     "traceback": [
      "\u001b[0;31m---------------------------------------------------------------------------\u001b[0m",
      "\u001b[0;31mKeyError\u001b[0m                                  Traceback (most recent call last)",
      "Cell \u001b[0;32mIn[48], line 3\u001b[0m\n\u001b[1;32m      1\u001b[0m espiritu_animal \u001b[38;5;241m=\u001b[39m \u001b[38;5;28minput\u001b[39m()\n\u001b[0;32m----> 3\u001b[0m diccionario_2[espiritu_animal]\n",
      "\u001b[0;31mKeyError\u001b[0m: 'rocio'"
     ]
    }
   ],
   "source": [
    "espiritu_animal = input()\n",
    "\n",
    "diccionario_2[espiritu_animal]\n"
   ]
  },
  {
   "cell_type": "code",
   "execution_count": null,
   "id": "6052b6ed",
   "metadata": {},
   "outputs": [
    {
     "name": "stdout",
     "output_type": "stream",
     "text": [
      "Rocio\n"
     ]
    }
   ],
   "source": [
    "print(espiritu_animal)"
   ]
  },
  {
   "cell_type": "code",
   "execution_count": null,
   "id": "4b1360bb",
   "metadata": {},
   "outputs": [
    {
     "data": {
      "text/plain": [
       "'Gato'"
      ]
     },
     "execution_count": 32,
     "metadata": {},
     "output_type": "execute_result"
    }
   ],
   "source": [
    "nombre = \"Carmen\"\n",
    "diccionario_2[nombre]"
   ]
  },
  {
   "cell_type": "code",
   "execution_count": null,
   "id": "aa3755ec",
   "metadata": {},
   "outputs": [
    {
     "name": "stdout",
     "output_type": "stream",
     "text": [
      "{'Rocio': 'Caballo', 'Carmen': 'Gato', 'Maria': 'Urraca', 'Laura': 'Oso', 'Irene': 'Medusa', 'Andrea': 'Flamenco'}\n"
     ]
    }
   ],
   "source": [
    "# Agregar un nuevo par clave-valor a un diccionario\n",
    "\n",
    "diccionario_3 = {\"Andrea\" : \"Flamenco\"}\n",
    "\n",
    "diccionario_2.update(diccionario_3)\n",
    "print(diccionario_2)"
   ]
  },
  {
   "cell_type": "code",
   "execution_count": null,
   "id": "3552f00f",
   "metadata": {},
   "outputs": [
    {
     "name": "stdout",
     "output_type": "stream",
     "text": [
      "{'Rocio': 'Caballo', 'Carmen': 'Murcielago', 'Maria': 'Urraca', 'Laura': 'Oso', 'Irene': 'Medusa', 'Andrea': 'Flamenco'}\n"
     ]
    }
   ],
   "source": [
    "# Actualizar el valor de una clave en un diccionario\n",
    "\n",
    "diccionario_2[\"Carmen\"] = \"Murcielago\"\n",
    "print(diccionario_2)"
   ]
  },
  {
   "cell_type": "code",
   "execution_count": 51,
   "id": "a438eb9b",
   "metadata": {},
   "outputs": [
    {
     "data": {
      "text/plain": [
       "'Gato'"
      ]
     },
     "execution_count": 51,
     "metadata": {},
     "output_type": "execute_result"
    }
   ],
   "source": [
    "# Eliminar un par clave-valor de un diccionario\n",
    "\n",
    "diccionario_2.pop(\"Carmen\")\n"
   ]
  },
  {
   "cell_type": "code",
   "execution_count": 52,
   "id": "70a7d1af",
   "metadata": {},
   "outputs": [
    {
     "name": "stdout",
     "output_type": "stream",
     "text": [
      "{'Rocio': 'Caballo', 'Maria': 'Urraca', 'Laura': 'Oso', 'Irene': 'Medusa'}\n"
     ]
    }
   ],
   "source": [
    "print(diccionario_2)"
   ]
  },
  {
   "cell_type": "code",
   "execution_count": 56,
   "id": "f6b3b5f2",
   "metadata": {},
   "outputs": [
    {
     "ename": "KeyError",
     "evalue": "'Caballo'",
     "output_type": "error",
     "traceback": [
      "\u001b[0;31m---------------------------------------------------------------------------\u001b[0m",
      "\u001b[0;31mKeyError\u001b[0m                                  Traceback (most recent call last)",
      "Cell \u001b[0;32mIn[56], line 5\u001b[0m\n\u001b[1;32m      1\u001b[0m \u001b[38;5;66;03m# Verificar si una clave está presente en un diccionario\u001b[39;00m\n\u001b[1;32m      2\u001b[0m \n\u001b[1;32m      3\u001b[0m \u001b[38;5;66;03m#Opt1\u001b[39;00m\n\u001b[1;32m      4\u001b[0m clave \u001b[38;5;241m=\u001b[39m \u001b[38;5;28minput\u001b[39m()\n\u001b[0;32m----> 5\u001b[0m diccionario_2[clave]\n",
      "\u001b[0;31mKeyError\u001b[0m: 'Caballo'"
     ]
    }
   ],
   "source": [
    "# Verificar si una clave está presente en un diccionario\n",
    "\n",
    "#Opt1\n",
    "clave = input()\n",
    "diccionario_2[clave]\n",
    "\n"
   ]
  },
  {
   "cell_type": "code",
   "execution_count": 58,
   "id": "9c6a285f",
   "metadata": {},
   "outputs": [
    {
     "name": "stdout",
     "output_type": "stream",
     "text": [
      "True\n"
     ]
    }
   ],
   "source": [
    "#Opt2\n",
    "clave = input()\n",
    "clave_booleano = bool(clave)\n",
    "print(clave_booleano)"
   ]
  }
 ],
 "metadata": {
  "kernelspec": {
   "display_name": "base",
   "language": "python",
   "name": "python3"
  },
  "language_info": {
   "codemirror_mode": {
    "name": "ipython",
    "version": 3
   },
   "file_extension": ".py",
   "mimetype": "text/x-python",
   "name": "python",
   "nbconvert_exporter": "python",
   "pygments_lexer": "ipython3",
   "version": "3.12.7"
  }
 },
 "nbformat": 4,
 "nbformat_minor": 5
}
