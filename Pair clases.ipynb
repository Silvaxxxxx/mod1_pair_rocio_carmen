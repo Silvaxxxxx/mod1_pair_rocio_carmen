{
 "cells": [
  {
   "cell_type": "markdown",
   "id": "135d8e10",
   "metadata": {},
   "source": [
    "# Ejercicios"
   ]
  },
  {
   "cell_type": "code",
   "execution_count": 108,
   "id": "639c9866",
   "metadata": {},
   "outputs": [],
   "source": [
    "class Empleados:\n",
    "    \"\"\" documentación \"\"\"\n",
    "\n",
    "    def __init__ (self, nombre, apellidos, edad, posicion, anio, vacaciones, herramientas):\n",
    "        self.nombre = nombre\n",
    "        self.apellidos = apellidos\n",
    "        self.edad = edad\n",
    "        self.posicion = posicion\n",
    "        self.anio = anio\n",
    "        self.vacaciones = vacaciones\n",
    "        self.herramientas = herramientas\n",
    "\n",
    "    def descripcion (self):\n",
    "        print(f\"El nombre de esta empleada es {self.nombre} {self.apellidos}, tiene {self.edad} años, su rol en la empresa es {self.posicion} desde {self.anio}. Le quedan {self.vacaciones} días de vacaciones y sabe utilizar {self.herramientas}.\")\n",
    "\n",
    "    def cambiando_posicion (self):\n",
    "        \n",
    "        herramientas = [\"CRM\", \"Slack\", \"Excel\", \"Python\"]\n",
    "        herramientas_lower = [herramienta.lower() for herramienta in herramientas]\n",
    "        \n",
    "        if \"python\" in herramientas_lower:\n",
    "            return \"Enhorabuena por saber usar Python\"\n",
    "        elif \"excel\" in herramientas_lower:\n",
    "            return \"Deja de usar Excel y usa Python\"\n",
    "        else:\n",
    "            return \"Aprende más herramientas que vas cortita, hija mía\"\n",
    "            "
   ]
  },
  {
   "cell_type": "code",
   "execution_count": 109,
   "id": "6e220381",
   "metadata": {},
   "outputs": [],
   "source": [
    "empl1 = Empleados(\"Carmen\", \"Bermejo de Fuentes\", 39, \"Coordinadora de Marketing\", 2023, 23, \"CRM, Slack, Excel, Python\")"
   ]
  },
  {
   "cell_type": "code",
   "execution_count": 110,
   "id": "b574b2a0",
   "metadata": {},
   "outputs": [
    {
     "name": "stdout",
     "output_type": "stream",
     "text": [
      "El nombre de esta empleada es Carmen Bermejo de Fuentes, tiene 39 años, su rol en la empresa es Coordinadora de Marketing desde 2023. Le quedan 23 días de vacaciones y sabe utilizar CRM, Slack, Excel, Python.\n"
     ]
    }
   ],
   "source": [
    "empl1.descripcion()"
   ]
  },
  {
   "cell_type": "code",
   "execution_count": 111,
   "id": "259f069b",
   "metadata": {},
   "outputs": [
    {
     "data": {
      "text/plain": [
       "'Enhorabuena por saber usar Python'"
      ]
     },
     "execution_count": 111,
     "metadata": {},
     "output_type": "execute_result"
    }
   ],
   "source": [
    "\n",
    "empl1.cambiando_posicion()"
   ]
  },
  {
   "cell_type": "code",
   "execution_count": 102,
   "id": "0741eb53",
   "metadata": {},
   "outputs": [
    {
     "name": "stdout",
     "output_type": "stream",
     "text": [
      "['crm', 'slack', 'excel', 'python']\n"
     ]
    }
   ],
   "source": [
    " herramientas = [\"CRM\", \"Slack\", \"Excel\", \"Python\"]\n",
    " herramientas_lower = [herramienta.lower() for herramienta in herramientas]\n",
    "\n",
    "print(herramientas_lower)"
   ]
  }
 ],
 "metadata": {
  "kernelspec": {
   "display_name": "base",
   "language": "python",
   "name": "python3"
  },
  "language_info": {
   "codemirror_mode": {
    "name": "ipython",
    "version": 3
   },
   "file_extension": ".py",
   "mimetype": "text/x-python",
   "name": "python",
   "nbconvert_exporter": "python",
   "pygments_lexer": "ipython3",
   "version": "3.12.7"
  }
 },
 "nbformat": 4,
 "nbformat_minor": 5
}
