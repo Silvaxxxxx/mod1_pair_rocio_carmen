{
 "cells": [
  {
   "cell_type": "markdown",
   "id": "02335df5",
   "metadata": {},
   "source": [
    "# Pair Bucles for"
   ]
  },
  {
   "cell_type": "markdown",
   "id": "4077e557",
   "metadata": {},
   "source": [
    "## Ejericios bucles for"
   ]
  },
  {
   "cell_type": "code",
   "execution_count": null,
   "id": "67278f54",
   "metadata": {},
   "outputs": [
    {
     "name": "stdout",
     "output_type": "stream",
     "text": [
      "1\n",
      "2\n",
      "3\n",
      "4\n",
      "5\n"
     ]
    }
   ],
   "source": [
    "# Imprimir los números del 1 al 5 utilizando un bucle for\n",
    "\n",
    "\n",
    "for i in range(1, 6):  # El rango incluye el número inicial (1) pero no el número final (6), por lo que se incluyen los números del 1 al 5\n",
    "    print(i)"
   ]
  },
  {
   "cell_type": "code",
   "execution_count": 24,
   "id": "e36c9a72",
   "metadata": {},
   "outputs": [
    {
     "name": "stdout",
     "output_type": "stream",
     "text": [
      "55\n"
     ]
    }
   ],
   "source": [
    "# Calcular la suma de los primeros 10 números naturales utilizando un bucle for. \n",
    "# Descripción: Utiliza un bucle for para calcular la suma de los primeros 10 números naturales (1 + 2 + 3 + ... + 10).\n",
    "\n",
    "suma = 0\n",
    "\n",
    "for n in range(1,11):\n",
    "    suma +=n\n",
    "\n",
    "print(suma)"
   ]
  },
  {
   "cell_type": "code",
   "execution_count": 28,
   "id": "fadd9576",
   "metadata": {},
   "outputs": [
    {
     "name": "stdout",
     "output_type": "stream",
     "text": [
      "[]\n"
     ]
    }
   ],
   "source": [
    "# Calcular el producto de los elementos de una lista\n",
    "# Descripción: Dada una lista de números, utiliza un bucle for para calcular el producto de todos los elementos.\n",
    "\n",
    "producto = [1, 2, 3, 4, 5]\n",
    "\n",
    "for x in producto:\n",
    "    \n",
    "\n",
    "print(producto)"
   ]
  },
  {
   "cell_type": "code",
   "execution_count": 30,
   "id": "079de9d1",
   "metadata": {},
   "outputs": [
    {
     "name": "stdout",
     "output_type": "stream",
     "text": [
      "1\n",
      "2\n",
      "6\n",
      "24\n",
      "120\n",
      "720\n",
      "5040\n",
      "40320\n",
      "362880\n",
      "3628800\n",
      "3628800\n"
     ]
    }
   ],
   "source": [
    "producto = 1\n",
    "\n",
    "for n in range(1,11):\n",
    "    producto *=n\n",
    "    print(producto)\n",
    "\n",
    "print(producto)"
   ]
  },
  {
   "cell_type": "code",
   "execution_count": 40,
   "id": "bb25ee2c",
   "metadata": {},
   "outputs": [
    {
     "name": "stdout",
     "output_type": "stream",
     "text": [
      "R\n",
      "............\n",
      "o\n",
      "............\n",
      "c\n",
      "............\n",
      "i\n",
      "............\n",
      "o\n",
      "............\n",
      " \n",
      "............\n",
      "m\n",
      "............\n",
      "o\n",
      "............\n",
      "l\n",
      "............\n",
      "a\n",
      "............\n",
      " \n",
      "............\n",
      "m\n",
      "............\n",
      "a\n",
      "............\n",
      "z\n",
      "............\n",
      "o\n",
      "............\n"
     ]
    }
   ],
   "source": [
    "#Imprimir los caracteres de una cadena de texto\n",
    "#Descripción: Dada una cadena de texto, utiliza un bucle for para imprimir cada carácter en una línea separada.\n",
    "\n",
    "cadena_texto = \"Rocio mola mazo\"\n",
    "\n",
    "for caracter in cadena_texto:\n",
    "    print(caracter)\n",
    "    print(\"............\")\n",
    "\n"
   ]
  },
  {
   "cell_type": "code",
   "execution_count": null,
   "id": "3d3c8fce",
   "metadata": {},
   "outputs": [
    {
     "name": "stdout",
     "output_type": "stream",
     "text": [
      "0\n",
      "2\n",
      "4\n",
      "6\n",
      "8\n",
      "10\n",
      "12\n",
      "14\n",
      "16\n",
      "18\n",
      "20\n",
      "22\n",
      "24\n",
      "26\n",
      "28\n",
      "30\n",
      "32\n",
      "34\n",
      "36\n",
      "38\n",
      "40\n",
      "42\n",
      "44\n",
      "46\n",
      "48\n",
      "50\n",
      "52\n",
      "54\n",
      "56\n",
      "58\n",
      "60\n",
      "62\n",
      "64\n",
      "66\n",
      "68\n",
      "70\n",
      "72\n",
      "74\n",
      "76\n",
      "78\n",
      "80\n",
      "82\n",
      "84\n",
      "86\n",
      "88\n",
      "90\n",
      "92\n",
      "94\n",
      "96\n",
      "98\n",
      "100\n"
     ]
    }
   ],
   "source": [
    "# Imprimir los números pares del 1 al 100 utilizando un bucle for\n",
    "# Descripción: Utiliza un bucle for para imprimir los números pares del 1 al 100 en orden ascendente.\n",
    "\n",
    "pares = 4 % 2\n",
    "\n",
    "for numero in range(0,101,2): #usamos \",\" porque los rangos no funcionan con \":\"\n",
    "    pares == numero\n",
    "    print(numero)\n",
    "   "
   ]
  },
  {
   "cell_type": "code",
   "execution_count": 54,
   "id": "823f9303",
   "metadata": {},
   "outputs": [
    {
     "name": "stdout",
     "output_type": "stream",
     "text": [
      "0\n",
      "2\n",
      "4\n",
      "6\n",
      "8\n",
      "10\n",
      "12\n",
      "14\n",
      "16\n",
      "18\n",
      "20\n",
      "22\n",
      "24\n",
      "26\n",
      "28\n",
      "30\n",
      "32\n",
      "34\n",
      "36\n",
      "38\n",
      "40\n",
      "42\n",
      "44\n",
      "46\n",
      "48\n",
      "50\n",
      "52\n",
      "54\n",
      "56\n",
      "58\n",
      "60\n",
      "62\n",
      "64\n",
      "66\n",
      "68\n",
      "70\n",
      "72\n",
      "74\n",
      "76\n",
      "78\n",
      "80\n",
      "82\n",
      "84\n",
      "86\n",
      "88\n",
      "90\n",
      "92\n",
      "94\n",
      "96\n",
      "98\n",
      "100\n"
     ]
    }
   ],
   "source": [
    "for numero in range(0,101,2): #usamos \",\" porque los rangos no funcionan con \":\"\n",
    "    print(numero)\n",
    "   "
   ]
  },
  {
   "cell_type": "code",
   "execution_count": null,
   "id": "3ec63f79",
   "metadata": {},
   "outputs": [],
   "source": [
    "#Juego de adivinar palabras utilizando un bucle for\n",
    "#Descripción: Crea un juego en el que el jugador debe adivinar una palabra secreta. El jugador tiene un número limitado de intentos y se le proporcionan pistas después de cada intento. Utiliza un bucle for para controlar los intentos del jugador.\n",
    "\n",
    "#3 intentos\n",
    "#vamos de colores\n",
    "#palabra secreta = verde\n",
    "\n",
    "colores = [\"rojo\", \"azul\", \"rosa\", \"amarillo\", \"verde\"]\n"
   ]
  },
  {
   "cell_type": "code",
   "execution_count": 65,
   "id": "c3b5bb7d",
   "metadata": {},
   "outputs": [
    {
     "name": "stdout",
     "output_type": "stream",
     "text": [
      "rojo\n",
      "azul\n",
      "rosa\n",
      "amarillo\n",
      "verde\n"
     ]
    }
   ],
   "source": [
    "palabra_secreta = \"verde\"\n",
    "intentos = 3\n",
    "\n",
    "for color in colores:\n",
    "    color == palabra_secreta\n",
    "    print(color)\n"
   ]
  },
  {
   "cell_type": "code",
   "execution_count": null,
   "id": "ee8153a0",
   "metadata": {},
   "outputs": [
    {
     "name": "stdout",
     "output_type": "stream",
     "text": [
      "No lo has adivinado\n",
      "..........\n",
      "No lo has adivinado\n",
      "..........\n",
      "Has ganado\n",
      "..........\n"
     ]
    }
   ],
   "source": [
    "intentos = 3\n",
    "palabra_secreta = \"verde\"\n",
    "\n",
    "for intento in range(intentos):\n",
    "    adivinanza = input(\"Adivina la palabra secreta\")\n",
    "    if palabra_secreta == adivinanza:\n",
    "        print(\"Has ganado\")\n",
    "        print(\"..........\")\n",
    "        break\n",
    "    else:\n",
    "        print(\"No lo has adivinado\")\n",
    "        print(\"..........\")\n"
   ]
  }
 ],
 "metadata": {
  "kernelspec": {
   "display_name": "base",
   "language": "python",
   "name": "python3"
  },
  "language_info": {
   "codemirror_mode": {
    "name": "ipython",
    "version": 3
   },
   "file_extension": ".py",
   "mimetype": "text/x-python",
   "name": "python",
   "nbconvert_exporter": "python",
   "pygments_lexer": "ipython3",
   "version": "3.12.7"
  }
 },
 "nbformat": 4,
 "nbformat_minor": 5
}
